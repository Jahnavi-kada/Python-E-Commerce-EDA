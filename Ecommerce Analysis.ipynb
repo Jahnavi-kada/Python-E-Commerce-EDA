{
 "cells": [
  {
   "cell_type": "markdown",
   "id": "8b611497-25f2-47f6-9d5a-c3b2f7a7334d",
   "metadata": {},
   "source": [
    "## ***EXPLORATORY DATA ANALYSIS ON ECOMMERCE DATA***"
   ]
  },
  {
   "cell_type": "code",
   "execution_count": null,
   "id": "8c869031-222f-4d4e-a533-d6b690db8dce",
   "metadata": {},
   "outputs": [],
   "source": []
  },
  {
   "cell_type": "markdown",
   "id": "48a11022-ff1a-4283-b4c7-d9747adef7f5",
   "metadata": {},
   "source": [
    "## Importing the Libraries"
   ]
  },
  {
   "cell_type": "code",
   "execution_count": 1,
   "id": "145effe8-e1b9-4489-a464-8c9eb1234658",
   "metadata": {},
   "outputs": [],
   "source": [
    "import numpy as np\n",
    "import pandas as pd \n",
    "import matplotlib.pyplot as plt\n",
    "import seaborn as sns\n",
    "import datetime as dt"
   ]
  },
  {
   "cell_type": "code",
   "execution_count": null,
   "id": "13cca787-78c9-439b-841f-da8c8256b4e5",
   "metadata": {},
   "outputs": [],
   "source": []
  },
  {
   "cell_type": "markdown",
   "id": "b3783df4-115c-4bde-8274-039eb34c90fc",
   "metadata": {},
   "source": [
    "## Importing the DataSets"
   ]
  },
  {
   "cell_type": "code",
   "execution_count": 2,
   "id": "c8b77532-a192-41c5-8d4d-92f283f77c09",
   "metadata": {},
   "outputs": [],
   "source": [
    "ecomm = pd.read_csv('ecommerce.csv')"
   ]
  },
  {
   "cell_type": "code",
   "execution_count": null,
   "id": "625eb088-8554-42bf-8925-141678b306a3",
   "metadata": {},
   "outputs": [],
   "source": []
  },
  {
   "cell_type": "markdown",
   "id": "c101a186-99ea-47f3-9db0-0a7727d1b6ca",
   "metadata": {},
   "source": [
    "## View Information"
   ]
  },
  {
   "cell_type": "code",
   "execution_count": 3,
   "id": "a7b94f0b-462b-4e28-9a93-4c8b672bced6",
   "metadata": {},
   "outputs": [
    {
     "data": {
      "text/plain": [
       "(9994, 22)"
      ]
     },
     "execution_count": 3,
     "metadata": {},
     "output_type": "execute_result"
    }
   ],
   "source": [
    "ecomm.shape"
   ]
  },
  {
   "cell_type": "code",
   "execution_count": 4,
   "id": "188cefa2-c36b-4649-9b48-ab53e451e3fb",
   "metadata": {},
   "outputs": [
    {
     "data": {
      "text/html": [
       "<div>\n",
       "<style scoped>\n",
       "    .dataframe tbody tr th:only-of-type {\n",
       "        vertical-align: middle;\n",
       "    }\n",
       "\n",
       "    .dataframe tbody tr th {\n",
       "        vertical-align: top;\n",
       "    }\n",
       "\n",
       "    .dataframe thead th {\n",
       "        text-align: right;\n",
       "    }\n",
       "</style>\n",
       "<table border=\"1\" class=\"dataframe\">\n",
       "  <thead>\n",
       "    <tr style=\"text-align: right;\">\n",
       "      <th></th>\n",
       "      <th>Row ID</th>\n",
       "      <th>Order ID</th>\n",
       "      <th>Order Date</th>\n",
       "      <th>Ship Date</th>\n",
       "      <th>Ship Mode</th>\n",
       "      <th>Customer ID</th>\n",
       "      <th>Customer Name</th>\n",
       "      <th>Segment</th>\n",
       "      <th>Country</th>\n",
       "      <th>City</th>\n",
       "      <th>...</th>\n",
       "      <th>Region</th>\n",
       "      <th>Product ID</th>\n",
       "      <th>Category</th>\n",
       "      <th>Sub-Category</th>\n",
       "      <th>Product Name</th>\n",
       "      <th>Price</th>\n",
       "      <th>Quantity</th>\n",
       "      <th>Discount</th>\n",
       "      <th>Profit</th>\n",
       "      <th>Sales</th>\n",
       "    </tr>\n",
       "  </thead>\n",
       "  <tbody>\n",
       "    <tr>\n",
       "      <th>0</th>\n",
       "      <td>7981</td>\n",
       "      <td>CA-2014-103800</td>\n",
       "      <td>03-01-2014</td>\n",
       "      <td>07-01-2014</td>\n",
       "      <td>Standard Class</td>\n",
       "      <td>DP-13000</td>\n",
       "      <td>Darren Powers</td>\n",
       "      <td>Consumer</td>\n",
       "      <td>United States</td>\n",
       "      <td>Houston</td>\n",
       "      <td>...</td>\n",
       "      <td>Central</td>\n",
       "      <td>OFF-PA-10000174</td>\n",
       "      <td>Office Supplies</td>\n",
       "      <td>Paper</td>\n",
       "      <td>Message Book, Wirebound, Four 5 1/2\" X 4\" Form...</td>\n",
       "      <td>16.448</td>\n",
       "      <td>2</td>\n",
       "      <td>0.2</td>\n",
       "      <td>5.55</td>\n",
       "      <td>32.696</td>\n",
       "    </tr>\n",
       "    <tr>\n",
       "      <th>1</th>\n",
       "      <td>740</td>\n",
       "      <td>CA-2014-112326</td>\n",
       "      <td>04-01-2014</td>\n",
       "      <td>08-01-2014</td>\n",
       "      <td>Standard Class</td>\n",
       "      <td>PO-19195</td>\n",
       "      <td>Phillina Ober</td>\n",
       "      <td>Home Office</td>\n",
       "      <td>United States</td>\n",
       "      <td>Naperville</td>\n",
       "      <td>...</td>\n",
       "      <td>Central</td>\n",
       "      <td>OFF-LA-10003223</td>\n",
       "      <td>Office Supplies</td>\n",
       "      <td>Labels</td>\n",
       "      <td>Avery 508</td>\n",
       "      <td>11.784</td>\n",
       "      <td>3</td>\n",
       "      <td>0.2</td>\n",
       "      <td>4.27</td>\n",
       "      <td>35.152</td>\n",
       "    </tr>\n",
       "    <tr>\n",
       "      <th>2</th>\n",
       "      <td>741</td>\n",
       "      <td>CA-2014-112326</td>\n",
       "      <td>04-01-2014</td>\n",
       "      <td>08-01-2014</td>\n",
       "      <td>Standard Class</td>\n",
       "      <td>PO-19195</td>\n",
       "      <td>Phillina Ober</td>\n",
       "      <td>Home Office</td>\n",
       "      <td>United States</td>\n",
       "      <td>Naperville</td>\n",
       "      <td>...</td>\n",
       "      <td>Central</td>\n",
       "      <td>OFF-ST-10002743</td>\n",
       "      <td>Office Supplies</td>\n",
       "      <td>Storage</td>\n",
       "      <td>SAFCO Boltless Steel Shelving</td>\n",
       "      <td>272.736</td>\n",
       "      <td>3</td>\n",
       "      <td>0.2</td>\n",
       "      <td>-64.77</td>\n",
       "      <td>818.008</td>\n",
       "    </tr>\n",
       "    <tr>\n",
       "      <th>3</th>\n",
       "      <td>742</td>\n",
       "      <td>CA-2014-112326</td>\n",
       "      <td>04-01-2014</td>\n",
       "      <td>08-01-2014</td>\n",
       "      <td>Standard Class</td>\n",
       "      <td>PO-19195</td>\n",
       "      <td>Phillina Ober</td>\n",
       "      <td>Home Office</td>\n",
       "      <td>United States</td>\n",
       "      <td>Naperville</td>\n",
       "      <td>...</td>\n",
       "      <td>Central</td>\n",
       "      <td>OFF-BI-10004094</td>\n",
       "      <td>Office Supplies</td>\n",
       "      <td>Binders</td>\n",
       "      <td>GBC Standard Plastic Binding Systems Combs</td>\n",
       "      <td>3.540</td>\n",
       "      <td>2</td>\n",
       "      <td>0.8</td>\n",
       "      <td>-5.49</td>\n",
       "      <td>6.280</td>\n",
       "    </tr>\n",
       "    <tr>\n",
       "      <th>4</th>\n",
       "      <td>1760</td>\n",
       "      <td>CA-2014-141817</td>\n",
       "      <td>05-01-2014</td>\n",
       "      <td>12-01-2014</td>\n",
       "      <td>Standard Class</td>\n",
       "      <td>MB-18085</td>\n",
       "      <td>Mick Brown</td>\n",
       "      <td>Consumer</td>\n",
       "      <td>United States</td>\n",
       "      <td>Philadelphia</td>\n",
       "      <td>...</td>\n",
       "      <td>East</td>\n",
       "      <td>OFF-AR-10003478</td>\n",
       "      <td>Office Supplies</td>\n",
       "      <td>Art</td>\n",
       "      <td>Avery Hi-Liter EverBold Pen Style Fluorescent ...</td>\n",
       "      <td>19.536</td>\n",
       "      <td>3</td>\n",
       "      <td>0.2</td>\n",
       "      <td>4.88</td>\n",
       "      <td>58.408</td>\n",
       "    </tr>\n",
       "  </tbody>\n",
       "</table>\n",
       "<p>5 rows × 22 columns</p>\n",
       "</div>"
      ],
      "text/plain": [
       "   Row ID        Order ID  Order Date   Ship Date       Ship Mode Customer ID  \\\n",
       "0    7981  CA-2014-103800  03-01-2014  07-01-2014  Standard Class    DP-13000   \n",
       "1     740  CA-2014-112326  04-01-2014  08-01-2014  Standard Class    PO-19195   \n",
       "2     741  CA-2014-112326  04-01-2014  08-01-2014  Standard Class    PO-19195   \n",
       "3     742  CA-2014-112326  04-01-2014  08-01-2014  Standard Class    PO-19195   \n",
       "4    1760  CA-2014-141817  05-01-2014  12-01-2014  Standard Class    MB-18085   \n",
       "\n",
       "   Customer Name      Segment        Country          City  ...   Region  \\\n",
       "0  Darren Powers     Consumer  United States       Houston  ...  Central   \n",
       "1  Phillina Ober  Home Office  United States    Naperville  ...  Central   \n",
       "2  Phillina Ober  Home Office  United States    Naperville  ...  Central   \n",
       "3  Phillina Ober  Home Office  United States    Naperville  ...  Central   \n",
       "4     Mick Brown     Consumer  United States  Philadelphia  ...     East   \n",
       "\n",
       "        Product ID         Category Sub-Category  \\\n",
       "0  OFF-PA-10000174  Office Supplies        Paper   \n",
       "1  OFF-LA-10003223  Office Supplies       Labels   \n",
       "2  OFF-ST-10002743  Office Supplies      Storage   \n",
       "3  OFF-BI-10004094  Office Supplies      Binders   \n",
       "4  OFF-AR-10003478  Office Supplies          Art   \n",
       "\n",
       "                                        Product Name    Price Quantity  \\\n",
       "0  Message Book, Wirebound, Four 5 1/2\" X 4\" Form...   16.448        2   \n",
       "1                                          Avery 508   11.784        3   \n",
       "2                      SAFCO Boltless Steel Shelving  272.736        3   \n",
       "3         GBC Standard Plastic Binding Systems Combs    3.540        2   \n",
       "4  Avery Hi-Liter EverBold Pen Style Fluorescent ...   19.536        3   \n",
       "\n",
       "   Discount  Profit    Sales  \n",
       "0       0.2    5.55   32.696  \n",
       "1       0.2    4.27   35.152  \n",
       "2       0.2  -64.77  818.008  \n",
       "3       0.8   -5.49    6.280  \n",
       "4       0.2    4.88   58.408  \n",
       "\n",
       "[5 rows x 22 columns]"
      ]
     },
     "execution_count": 4,
     "metadata": {},
     "output_type": "execute_result"
    }
   ],
   "source": [
    "ecomm.head()"
   ]
  },
  {
   "cell_type": "code",
   "execution_count": 5,
   "id": "c51bd627-660c-4283-8d9c-da5e96ed1236",
   "metadata": {},
   "outputs": [
    {
     "name": "stdout",
     "output_type": "stream",
     "text": [
      "<class 'pandas.core.frame.DataFrame'>\n",
      "RangeIndex: 9994 entries, 0 to 9993\n",
      "Data columns (total 22 columns):\n",
      " #   Column         Non-Null Count  Dtype  \n",
      "---  ------         --------------  -----  \n",
      " 0   Row ID         9994 non-null   int64  \n",
      " 1   Order ID       9994 non-null   object \n",
      " 2   Order Date     9994 non-null   object \n",
      " 3   Ship Date      9994 non-null   object \n",
      " 4   Ship Mode      9994 non-null   object \n",
      " 5   Customer ID    9994 non-null   object \n",
      " 6   Customer Name  9994 non-null   object \n",
      " 7   Segment        9994 non-null   object \n",
      " 8   Country        9994 non-null   object \n",
      " 9   City           9994 non-null   object \n",
      " 10  State          9994 non-null   object \n",
      " 11  Postal Code    9994 non-null   int64  \n",
      " 12  Region         9994 non-null   object \n",
      " 13  Product ID     9994 non-null   object \n",
      " 14  Category       9994 non-null   object \n",
      " 15  Sub-Category   9994 non-null   object \n",
      " 16  Product Name   9994 non-null   object \n",
      " 17  Price          9994 non-null   float64\n",
      " 18  Quantity       9994 non-null   int64  \n",
      " 19  Discount       9994 non-null   float64\n",
      " 20  Profit         9994 non-null   float64\n",
      " 21  Sales          9994 non-null   float64\n",
      "dtypes: float64(4), int64(3), object(15)\n",
      "memory usage: 1.7+ MB\n"
     ]
    }
   ],
   "source": [
    "ecomm.info()"
   ]
  },
  {
   "cell_type": "code",
   "execution_count": 6,
   "id": "f78e2951-645b-4a11-9d7e-2f3407d352b9",
   "metadata": {},
   "outputs": [
    {
     "data": {
      "text/plain": [
       "Index(['Row ID', 'Order ID', 'Order Date', 'Ship Date', 'Ship Mode',\n",
       "       'Customer ID', 'Customer Name', 'Segment', 'Country', 'City', 'State',\n",
       "       'Postal Code', 'Region', 'Product ID', 'Category', 'Sub-Category',\n",
       "       'Product Name', 'Price', 'Quantity', 'Discount', 'Profit', 'Sales'],\n",
       "      dtype='object')"
      ]
     },
     "execution_count": 6,
     "metadata": {},
     "output_type": "execute_result"
    }
   ],
   "source": [
    "ecomm.columns"
   ]
  },
  {
   "cell_type": "code",
   "execution_count": 7,
   "id": "f7b49c1b-8a4f-4c6a-9453-90035ccf71c7",
   "metadata": {},
   "outputs": [
    {
     "data": {
      "text/plain": [
       "Row ID           9994\n",
       "Order ID         9994\n",
       "Order Date       9994\n",
       "Ship Date        9994\n",
       "Ship Mode        9994\n",
       "Customer ID      9994\n",
       "Customer Name    9994\n",
       "Segment          9994\n",
       "Country          9994\n",
       "City             9994\n",
       "State            9994\n",
       "Postal Code      9994\n",
       "Region           9994\n",
       "Product ID       9994\n",
       "Category         9994\n",
       "Sub-Category     9994\n",
       "Product Name     9994\n",
       "Price            9994\n",
       "Quantity         9994\n",
       "Discount         9994\n",
       "Profit           9994\n",
       "Sales            9994\n",
       "dtype: int64"
      ]
     },
     "execution_count": 7,
     "metadata": {},
     "output_type": "execute_result"
    }
   ],
   "source": [
    "ecomm.count()"
   ]
  },
  {
   "cell_type": "code",
   "execution_count": 8,
   "id": "c6a582db-a113-4d8d-9a99-fe9d86895781",
   "metadata": {},
   "outputs": [
    {
     "data": {
      "text/plain": [
       "Row ID           9994\n",
       "Order ID         5009\n",
       "Order Date       1237\n",
       "Ship Date        1334\n",
       "Ship Mode           4\n",
       "Customer ID       793\n",
       "Customer Name     793\n",
       "Segment             3\n",
       "Country             1\n",
       "City              531\n",
       "State              49\n",
       "Postal Code       631\n",
       "Region              4\n",
       "Product ID       1862\n",
       "Category            3\n",
       "Sub-Category       17\n",
       "Product Name     1850\n",
       "Price            5825\n",
       "Quantity           14\n",
       "Discount           12\n",
       "Profit           5159\n",
       "Sales            6526\n",
       "dtype: int64"
      ]
     },
     "execution_count": 8,
     "metadata": {},
     "output_type": "execute_result"
    }
   ],
   "source": [
    "ecomm.nunique()"
   ]
  },
  {
   "cell_type": "code",
   "execution_count": null,
   "id": "bae1583d-bed0-40b8-a7a7-8130a2b19c04",
   "metadata": {},
   "outputs": [],
   "source": []
  },
  {
   "cell_type": "markdown",
   "id": "a5609c82-4cf3-48c4-83fa-2836c2e4b0fd",
   "metadata": {},
   "source": [
    "## Check Missing Values"
   ]
  },
  {
   "cell_type": "code",
   "execution_count": 9,
   "id": "7ccc85fd-05cd-45ec-b872-63e2c40fac74",
   "metadata": {},
   "outputs": [
    {
     "data": {
      "text/plain": [
       "Row ID           0\n",
       "Order ID         0\n",
       "Order Date       0\n",
       "Ship Date        0\n",
       "Ship Mode        0\n",
       "Customer ID      0\n",
       "Customer Name    0\n",
       "Segment          0\n",
       "Country          0\n",
       "City             0\n",
       "State            0\n",
       "Postal Code      0\n",
       "Region           0\n",
       "Product ID       0\n",
       "Category         0\n",
       "Sub-Category     0\n",
       "Product Name     0\n",
       "Price            0\n",
       "Quantity         0\n",
       "Discount         0\n",
       "Profit           0\n",
       "Sales            0\n",
       "dtype: int64"
      ]
     },
     "execution_count": 9,
     "metadata": {},
     "output_type": "execute_result"
    }
   ],
   "source": [
    "ecomm.isna().sum()"
   ]
  },
  {
   "cell_type": "code",
   "execution_count": null,
   "id": "081a36c2-a5ab-4015-9995-1ee285d180a4",
   "metadata": {},
   "outputs": [],
   "source": []
  },
  {
   "cell_type": "markdown",
   "id": "4e6c0c7a-81c2-41cc-bb6b-e6f2bff16c38",
   "metadata": {},
   "source": [
    "## Check Duplicates"
   ]
  },
  {
   "cell_type": "code",
   "execution_count": 10,
   "id": "e0d41984-7dd6-4cd1-a148-792ed485f687",
   "metadata": {},
   "outputs": [
    {
     "data": {
      "text/plain": [
       "0"
      ]
     },
     "execution_count": 10,
     "metadata": {},
     "output_type": "execute_result"
    }
   ],
   "source": [
    "ecomm.duplicated().sum()"
   ]
  },
  {
   "cell_type": "code",
   "execution_count": null,
   "id": "a524955b-4589-4203-a404-95191404762d",
   "metadata": {},
   "outputs": [],
   "source": []
  },
  {
   "cell_type": "markdown",
   "id": "8bf6c654-1b1a-4327-9410-9dd9bbff1819",
   "metadata": {},
   "source": [
    "## Rename the columns and replace _ for Spaces"
   ]
  },
  {
   "cell_type": "code",
   "execution_count": 11,
   "id": "d76fa30b-b432-4f62-a23c-aac3c176d95e",
   "metadata": {},
   "outputs": [
    {
     "data": {
      "text/plain": [
       "Index(['Row ID', 'Order ID', 'Order Date', 'Ship Date', 'Ship Mode',\n",
       "       'Customer ID', 'Customer Name', 'Segment', 'Country', 'City', 'State',\n",
       "       'Postal Code', 'Region', 'Product ID', 'Category', 'Sub-Category',\n",
       "       'Product Name', 'Price', 'Quantity', 'Discount', 'Profit', 'Sales'],\n",
       "      dtype='object')"
      ]
     },
     "execution_count": 11,
     "metadata": {},
     "output_type": "execute_result"
    }
   ],
   "source": [
    "ecomm.columns"
   ]
  },
  {
   "cell_type": "code",
   "execution_count": 12,
   "id": "a0fbf4dd-d762-4d14-8984-20c05f63adc2",
   "metadata": {},
   "outputs": [],
   "source": [
    "ecomm.columns = [i.replace(' ', '_') for i in ecomm.columns]"
   ]
  },
  {
   "cell_type": "code",
   "execution_count": 13,
   "id": "e6fef444-e586-4018-8632-9ab19e5e227a",
   "metadata": {},
   "outputs": [
    {
     "data": {
      "text/plain": [
       "Index(['Row_ID', 'Order_ID', 'Order_Date', 'Ship_Date', 'Ship_Mode',\n",
       "       'Customer_ID', 'Customer_Name', 'Segment', 'Country', 'City', 'State',\n",
       "       'Postal_Code', 'Region', 'Product_ID', 'Category', 'Sub-Category',\n",
       "       'Product_Name', 'Price', 'Quantity', 'Discount', 'Profit', 'Sales'],\n",
       "      dtype='object')"
      ]
     },
     "execution_count": 13,
     "metadata": {},
     "output_type": "execute_result"
    }
   ],
   "source": [
    "ecomm.columns"
   ]
  },
  {
   "cell_type": "code",
   "execution_count": null,
   "id": "b3684b69-608d-412f-bb61-7bd2494c399d",
   "metadata": {},
   "outputs": [],
   "source": []
  },
  {
   "cell_type": "markdown",
   "id": "50c0c73f-86b1-4e2d-809f-00deefb647e6",
   "metadata": {},
   "source": [
    "## Convert the datatype"
   ]
  },
  {
   "cell_type": "code",
   "execution_count": 14,
   "id": "67817fd8-d2b7-42fb-8537-72aa4362b7bc",
   "metadata": {},
   "outputs": [],
   "source": [
    "ecomm['Order_Date'] = pd.to_datetime(ecomm['Order_Date'], format = '%d-%m-%Y')"
   ]
  },
  {
   "cell_type": "code",
   "execution_count": 15,
   "id": "cfe847b1-9b88-4ad6-8ee6-db23a17ef1b6",
   "metadata": {},
   "outputs": [],
   "source": [
    "ecomm['Ship_Date'] = pd.to_datetime(ecomm['Ship_Date'], format = '%d-%m-%Y')"
   ]
  },
  {
   "cell_type": "code",
   "execution_count": 16,
   "id": "6968a85c-83fe-496a-80f7-e10ab8eff2b6",
   "metadata": {},
   "outputs": [
    {
     "name": "stdout",
     "output_type": "stream",
     "text": [
      "<class 'pandas.core.frame.DataFrame'>\n",
      "RangeIndex: 9994 entries, 0 to 9993\n",
      "Data columns (total 22 columns):\n",
      " #   Column         Non-Null Count  Dtype         \n",
      "---  ------         --------------  -----         \n",
      " 0   Row_ID         9994 non-null   int64         \n",
      " 1   Order_ID       9994 non-null   object        \n",
      " 2   Order_Date     9994 non-null   datetime64[ns]\n",
      " 3   Ship_Date      9994 non-null   datetime64[ns]\n",
      " 4   Ship_Mode      9994 non-null   object        \n",
      " 5   Customer_ID    9994 non-null   object        \n",
      " 6   Customer_Name  9994 non-null   object        \n",
      " 7   Segment        9994 non-null   object        \n",
      " 8   Country        9994 non-null   object        \n",
      " 9   City           9994 non-null   object        \n",
      " 10  State          9994 non-null   object        \n",
      " 11  Postal_Code    9994 non-null   int64         \n",
      " 12  Region         9994 non-null   object        \n",
      " 13  Product_ID     9994 non-null   object        \n",
      " 14  Category       9994 non-null   object        \n",
      " 15  Sub-Category   9994 non-null   object        \n",
      " 16  Product_Name   9994 non-null   object        \n",
      " 17  Price          9994 non-null   float64       \n",
      " 18  Quantity       9994 non-null   int64         \n",
      " 19  Discount       9994 non-null   float64       \n",
      " 20  Profit         9994 non-null   float64       \n",
      " 21  Sales          9994 non-null   float64       \n",
      "dtypes: datetime64[ns](2), float64(4), int64(3), object(13)\n",
      "memory usage: 1.7+ MB\n"
     ]
    }
   ],
   "source": [
    "ecomm.info()"
   ]
  },
  {
   "cell_type": "code",
   "execution_count": null,
   "id": "5b2f0f22-11f6-4acc-912f-ad005af6e857",
   "metadata": {},
   "outputs": [],
   "source": []
  },
  {
   "cell_type": "markdown",
   "id": "cdd9a73e-73e5-41e5-8d20-2f27628b6515",
   "metadata": {},
   "source": [
    "## BAR CHART"
   ]
  },
  {
   "cell_type": "markdown",
   "id": "4225fa28-5ca6-474d-9b08-b45f2947df0d",
   "metadata": {},
   "source": [
    "## Sales By Region"
   ]
  },
  {
   "cell_type": "code",
   "execution_count": 17,
   "id": "701f9b0d-2edf-42ab-8d7b-a0f619d8ca04",
   "metadata": {},
   "outputs": [],
   "source": [
    "sales_by_region = ecomm.groupby('Region')['Sales'].sum().reset_index()"
   ]
  },
  {
   "cell_type": "code",
   "execution_count": 18,
   "id": "11b0a16d-f8d0-444c-b186-af3f0e763466",
   "metadata": {},
   "outputs": [
    {
     "data": {
      "image/png": "[encoded data removed]",
      "text/plain": [
       "<Figure size 500x500 with 1 Axes>"
      ]
     },
     "metadata": {},
     "output_type": "display_data"
    }
   ],
   "source": [
    "plt.figure(figsize=(5, 5))\n",
    "plt.bar(sales_by_region['Region'], sales_by_region['Sales'], color='skyblue')\n",
    "plt.xlabel('Region')\n",
    "plt.ylabel('Total Sales')\n",
    "plt.title('Total Sales by Region')\n",
    "plt.xticks(rotation=45)\n",
    "plt.tight_layout()\n",
    "plt.show()"
   ]
  },
  {
   "cell_type": "code",
   "execution_count": null,
   "id": "212ad33a-fb4e-4077-807d-97080812b519",
   "metadata": {},
   "outputs": [],
   "source": []
  },
  {
   "cell_type": "code",
   "execution_count": null,
   "id": "679fcca7-8d9c-4832-a668-61da4a7662d2",
   "metadata": {},
   "outputs": [],
   "source": []
  },
  {
   "cell_type": "markdown",
   "id": "7d00e1a4-47ed-4bc3-9504-c36bb3e1e2eb",
   "metadata": {},
   "source": [
    "## Profit By Region"
   ]
  },
  {
   "cell_type": "code",
   "execution_count": 19,
   "id": "625a8f1a-d409-4726-8b5e-5175ed6fb220",
   "metadata": {},
   "outputs": [],
   "source": [
    "Profit_by_region = ecomm.groupby('Region')['Profit'].sum().reset_index()"
   ]
  },
  {
   "cell_type": "code",
   "execution_count": 20,
   "id": "f6888385-786f-4b01-9343-7433812586bc",
   "metadata": {},
   "outputs": [
    {
     "data": {
      "image/png": "[encoded data removed]",
      "text/plain": [
       "<Figure size 500x500 with 1 Axes>"
      ]
     },
     "metadata": {},
     "output_type": "display_data"
    }
   ],
   "source": [
    "plt.figure(figsize=(5, 5))\n",
    "plt.barh(Profit_by_region['Region'], Profit_by_region['Profit'], color= ['orange', 'green', 'yellow', 'skyblue'])\n",
    "plt.xlabel('Region')\n",
    "plt.ylabel('Total Profit')\n",
    "plt.title('Total Profit by Region')\n",
    "plt.tight_layout()\n",
    "plt.show()"
   ]
  },
  {
   "cell_type": "code",
   "execution_count": null,
   "id": "b762becc-0597-44cd-96a6-20ef0189b5e9",
   "metadata": {},
   "outputs": [],
   "source": []
  },
  {
   "cell_type": "code",
   "execution_count": null,
   "id": "73281a76-eb00-4eba-a6f9-667a8c57a5d9",
   "metadata": {},
   "outputs": [],
   "source": []
  },
  {
   "cell_type": "markdown",
   "id": "96aabb9c-2601-4f6c-beec-7fe6bb464de0",
   "metadata": {},
   "source": [
    "## BAR PLOT"
   ]
  },
  {
   "cell_type": "markdown",
   "id": "1962192b-9e4b-4440-846a-51fddfd25fde",
   "metadata": {},
   "source": [
    "## Sales By Region and Category"
   ]
  },
  {
   "cell_type": "code",
   "execution_count": 21,
   "id": "93d68b75-f609-4f91-9dce-f381bfd099d1",
   "metadata": {},
   "outputs": [],
   "source": [
    "sales_by_region_category = ecomm.groupby(['Region', 'Category'])['Sales'].sum().reset_index()"
   ]
  },
  {
   "cell_type": "code",
   "execution_count": 22,
   "id": "e353c147-e6a1-43cd-89ef-75c7640396ab",
   "metadata": {},
   "outputs": [
    {
     "data": {
      "image/png": "[encoded data removed]",
      "text/plain": [
       "<Figure size 1200x600 with 1 Axes>"
      ]
     },
     "metadata": {},
     "output_type": "display_data"
    }
   ],
   "source": [
    "plt.figure(figsize=(12, 6))\n",
    "sns.barplot(x='Region', y='Sales', hue='Category', data=sales_by_region_category, palette='Blues_d')\n",
    "plt.xlabel('Region')\n",
    "plt.ylabel('Total Sales')\n",
    "plt.title('Total Sales by Region and Category')\n",
    "plt.xticks(rotation=45)\n",
    "plt.tight_layout()\n",
    "plt.show()"
   ]
  },
  {
   "cell_type": "code",
   "execution_count": null,
   "id": "3b15fe6a-e337-43cb-b19b-afb5df988764",
   "metadata": {},
   "outputs": [],
   "source": []
  },
  {
   "cell_type": "code",
   "execution_count": null,
   "id": "e76da1ab-e66a-43ab-9a71-f9aac6f430a0",
   "metadata": {},
   "outputs": [],
   "source": []
  },
  {
   "cell_type": "markdown",
   "id": "067f9bf8-5b2a-4ddb-b361-0714b164ce52",
   "metadata": {},
   "source": [
    "## LINE - CHART"
   ]
  },
  {
   "cell_type": "markdown",
   "id": "84935344-361a-465e-b3e1-2310a9999d4b",
   "metadata": {},
   "source": [
    "## Sales Trend by Year"
   ]
  },
  {
   "cell_type": "code",
   "execution_count": 23,
   "id": "6483926a-6e66-4af6-9c09-61cccf9c3142",
   "metadata": {},
   "outputs": [],
   "source": [
    "ecomm['Year'] = ecomm['Order_Date'].dt.year"
   ]
  },
  {
   "cell_type": "code",
   "execution_count": 24,
   "id": "48941792-ed66-49b8-9e09-eba912f5d07c",
   "metadata": {},
   "outputs": [],
   "source": [
    "sales_trend_by_year = ecomm.groupby('Year')['Sales'].sum().reset_index()"
   ]
  },
  {
   "cell_type": "code",
   "execution_count": 25,
   "id": "a62643cb-b04d-47dc-9839-ec7d7bbd6973",
   "metadata": {},
   "outputs": [
    {
     "data": {
      "image/png": "[encoded data removed]",
      "text/plain": [
       "<Figure size 500x500 with 1 Axes>"
      ]
     },
     "metadata": {},
     "output_type": "display_data"
    }
   ],
   "source": [
    "plt.figure(figsize=(5, 5))\n",
    "plt.plot(sales_trend_by_year['Year'], sales_trend_by_year['Sales'], marker='o')\n",
    "plt.title('Sales Trend by Year')\n",
    "plt.xlabel('Year')\n",
    "plt.ylabel('Total Sales ($)')\n",
    "plt.grid()\n",
    "plt.xticks(sales_trend_by_year['Year'])\n",
    "plt.show()"
   ]
  },
  {
   "cell_type": "code",
   "execution_count": null,
   "id": "1a0a133a-db3b-48c5-8029-7b56f8f435a6",
   "metadata": {},
   "outputs": [],
   "source": []
  },
  {
   "cell_type": "code",
   "execution_count": null,
   "id": "321fd705-b5f6-49aa-ae6b-334176b7f62e",
   "metadata": {},
   "outputs": [],
   "source": []
  },
  {
   "cell_type": "markdown",
   "id": "46ecc98c-c6cb-407e-967e-b1952086e4ea",
   "metadata": {},
   "source": [
    "## Profit Trend over Years"
   ]
  },
  {
   "cell_type": "code",
   "execution_count": 26,
   "id": "13bba001-6116-4eb1-a95c-0b3ea25646c9",
   "metadata": {},
   "outputs": [],
   "source": [
    "profit_trend_by_year = ecomm.groupby('Year')['Profit'].sum().reset_index()"
   ]
  },
  {
   "cell_type": "code",
   "execution_count": 27,
   "id": "7d0615bc-5ac3-404a-abf2-bc2079d027d7",
   "metadata": {},
   "outputs": [
    {
     "data": {
      "image/png": "[encoded data removed]",
      "text/plain": [
       "<Figure size 500x500 with 1 Axes>"
      ]
     },
     "metadata": {},
     "output_type": "display_data"
    }
   ],
   "source": [
    "plt.figure(figsize=(5, 5))\n",
    "plt.plot(profit_trend_by_year['Year'], profit_trend_by_year['Profit'], marker='o')\n",
    "plt.title('Profit Trend Over Years')\n",
    "plt.xlabel('Year')\n",
    "plt.ylabel('Total Profit ($)')\n",
    "plt.grid()\n",
    "plt.xticks(profit_trend_by_year['Year'])\n",
    "plt.show()"
   ]
  },
  {
   "cell_type": "code",
   "execution_count": null,
   "id": "a1ed1a63-a9b4-460c-b070-f1224cdda0fe",
   "metadata": {},
   "outputs": [],
   "source": []
  },
  {
   "cell_type": "code",
   "execution_count": null,
   "id": "3b63688f-3d83-487e-bdd6-28a95656d6e3",
   "metadata": {},
   "outputs": [],
   "source": []
  },
  {
   "cell_type": "markdown",
   "id": "4e64f697-f4d0-412d-8f27-8a005d479ad9",
   "metadata": {},
   "source": [
    "## PIE - CHART"
   ]
  },
  {
   "cell_type": "markdown",
   "id": "289e658c-4eff-42d3-8866-2805e5b06433",
   "metadata": {},
   "source": [
    "## % composition of Profit by Sub-Category"
   ]
  },
  {
   "cell_type": "code",
   "execution_count": 28,
   "id": "f5c4627a-b983-49fa-b6f8-8d80448a4157",
   "metadata": {},
   "outputs": [],
   "source": [
    "profit_by_subcategory = ecomm.groupby('Sub-Category')['Profit'].sum().reset_index()\n",
    "total_profit = profit_by_subcategory['Profit'].sum()\n",
    "profit_by_subcategory['Percentage'] = (profit_by_subcategory['Profit'] / total_profit) * 100"
   ]
  },
  {
   "cell_type": "code",
   "execution_count": 29,
   "id": "4650160e-e173-4b1a-98ff-d7dd1a04d974",
   "metadata": {},
   "outputs": [],
   "source": [
    "# Filter out negative percentages and avoid empty slices\n",
    "profit_by_subcategory = profit_by_subcategory[profit_by_subcategory['Percentage'] >= 0]"
   ]
  },
  {
   "cell_type": "code",
   "execution_count": 30,
   "id": "b27a68b1-932a-495a-a6d3-dcd100590349",
   "metadata": {},
   "outputs": [
    {
     "data": {
      "image/png": "[encoded data removed]",
      "text/plain": [
       "<Figure size 600x600 with 1 Axes>"
      ]
     },
     "metadata": {},
     "output_type": "display_data"
    }
   ],
   "source": [
    "plt.figure(figsize=(6, 6))\n",
    "plt.pie(profit_by_subcategory['Percentage'], labels=profit_by_subcategory['Sub-Category'], autopct='%1.1f%%', startangle=90)\n",
    "plt.title('Percentage Composition of Profit by Sub-Category')\n",
    "plt.axis('equal')\n",
    "plt.show()"
   ]
  },
  {
   "cell_type": "code",
   "execution_count": null,
   "id": "f3d5b0bd-a6d9-4e3c-8495-d14aae941b4b",
   "metadata": {},
   "outputs": [],
   "source": []
  },
  {
   "cell_type": "code",
   "execution_count": null,
   "id": "8d41ecad-c9db-4049-bc95-1efb03b0481a",
   "metadata": {},
   "outputs": [],
   "source": []
  },
  {
   "cell_type": "markdown",
   "id": "81363c42-4538-48b8-bcd5-a431e777aa41",
   "metadata": {},
   "source": [
    "## % composition of Profit by Category"
   ]
  },
  {
   "cell_type": "code",
   "execution_count": 31,
   "id": "73e7f72f-c053-40e4-9d80-0c3be2b5a5a8",
   "metadata": {},
   "outputs": [],
   "source": [
    "profit_by_category = ecomm.groupby('Category')['Profit'].sum().reset_index()\n",
    "total_profit = profit_by_category['Profit'].sum()\n",
    "profit_by_category['Percentage'] = (profit_by_category['Profit'] / total_profit) * 100"
   ]
  },
  {
   "cell_type": "code",
   "execution_count": 32,
   "id": "fcbf234e-daa9-41c1-b34d-49e5d29bde8f",
   "metadata": {},
   "outputs": [],
   "source": [
    "profit_by_category = profit_by_category[profit_by_category['Percentage'] >= 0]"
   ]
  },
  {
   "cell_type": "code",
   "execution_count": 33,
   "id": "00b260d4-8e31-4e46-b4ef-26b70e6305de",
   "metadata": {},
   "outputs": [
    {
     "data": {
      "image/png": "[encoded data removed]",
      "text/plain": [
       "<Figure size 600x600 with 1 Axes>"
      ]
     },
     "metadata": {},
     "output_type": "display_data"
    }
   ],
   "source": [
    "plt.figure(figsize=(6, 6))\n",
    "plt.pie(profit_by_category['Percentage'], labels=profit_by_category['Category'], autopct='%1.1f%%', startangle=90)\n",
    "plt.title('Percentage Composition of Profit by Category')\n",
    "plt.axis('equal')\n",
    "plt.show()"
   ]
  },
  {
   "cell_type": "code",
   "execution_count": null,
   "id": "e84a4f00-530f-41f2-9a3d-2bf928c7d2b8",
   "metadata": {},
   "outputs": [],
   "source": []
  },
  {
   "cell_type": "code",
   "execution_count": null,
   "id": "ef64e13d-9731-4c0d-a093-f34f2595146d",
   "metadata": {},
   "outputs": [],
   "source": []
  },
  {
   "cell_type": "markdown",
   "id": "dd673d53-5174-4594-8bde-f3dcb5424ed7",
   "metadata": {},
   "source": [
    "## HISTOGRAMS"
   ]
  },
  {
   "cell_type": "markdown",
   "id": "bd14ca0e-a051-48e6-a375-13a618b8ab5b",
   "metadata": {},
   "source": [
    "## Distribution of Sales over a period of time"
   ]
  },
  {
   "cell_type": "code",
   "execution_count": 34,
   "id": "82a02e2a-b069-4d0d-a96d-14d4e826de52",
   "metadata": {},
   "outputs": [],
   "source": [
    "ecomm['Month'] = ecomm['Order_Date'].dt.to_period('M')"
   ]
  },
  {
   "cell_type": "code",
   "execution_count": 35,
   "id": "ae06f757-6be9-4ff4-b321-2c57851b44bf",
   "metadata": {},
   "outputs": [
    {
     "data": {
      "text/plain": [
       "count      9994.000000\n",
       "mean       1149.339702\n",
       "std        3898.671244\n",
       "min          -0.356000\n",
       "25%          48.477000\n",
       "50%         183.680000\n",
       "75%         763.151500\n",
       "max      135830.380000\n",
       "Name: Sales, dtype: float64"
      ]
     },
     "execution_count": 35,
     "metadata": {},
     "output_type": "execute_result"
    }
   ],
   "source": [
    "ecomm.Sales.describe()"
   ]
  },
  {
   "cell_type": "code",
   "execution_count": 36,
   "id": "7b299ed3-007e-4d88-81a1-2b1bab9d1c4e",
   "metadata": {},
   "outputs": [
    {
     "data": {
      "text/plain": [
       "135830.736"
      ]
     },
     "execution_count": 36,
     "metadata": {},
     "output_type": "execute_result"
    }
   ],
   "source": [
    "135830.380000 - (-0.356000)"
   ]
  },
  {
   "cell_type": "code",
   "execution_count": 37,
   "id": "7fbee5c6-43ce-403a-9f2c-4f21fa15a44d",
   "metadata": {},
   "outputs": [
    {
     "data": {
      "text/plain": [
       "14.0"
      ]
     },
     "execution_count": 37,
     "metadata": {},
     "output_type": "execute_result"
    }
   ],
   "source": [
    "140000/10000"
   ]
  },
  {
   "cell_type": "code",
   "execution_count": 38,
   "id": "5b390f2c-a248-45e0-8da6-533ace67475e",
   "metadata": {},
   "outputs": [
    {
     "data": {
      "text/plain": [
       "7.0"
      ]
     },
     "execution_count": 38,
     "metadata": {},
     "output_type": "execute_result"
    }
   ],
   "source": [
    "140000/20000"
   ]
  },
  {
   "cell_type": "code",
   "execution_count": 39,
   "id": "f5e5d812-07bb-4c89-980d-b75575a77a5a",
   "metadata": {},
   "outputs": [],
   "source": [
    "Sales_group = pd.Series(pd.cut(ecomm.Sales, range(0,140000,20000)))"
   ]
  },
  {
   "cell_type": "code",
   "execution_count": 40,
   "id": "8fb80571-63b5-4d76-8d3c-5fa3e3cacb5d",
   "metadata": {},
   "outputs": [
    {
     "data": {
      "text/plain": [
       "0       (0, 20000]\n",
       "1       (0, 20000]\n",
       "2       (0, 20000]\n",
       "3       (0, 20000]\n",
       "4       (0, 20000]\n",
       "           ...    \n",
       "9989    (0, 20000]\n",
       "9990    (0, 20000]\n",
       "9991    (0, 20000]\n",
       "9992    (0, 20000]\n",
       "9993    (0, 20000]\n",
       "Name: Sales, Length: 9994, dtype: category\n",
       "Categories (6, interval[int64, right]): [(0, 20000] < (20000, 40000] < (40000, 60000] < (60000, 80000] < (80000, 100000] < (100000, 120000]]"
      ]
     },
     "execution_count": 40,
     "metadata": {},
     "output_type": "execute_result"
    }
   ],
   "source": [
    "Sales_group"
   ]
  },
  {
   "cell_type": "code",
   "execution_count": 41,
   "id": "1684d992-7dbe-4142-a4bf-6965919002d8",
   "metadata": {},
   "outputs": [],
   "source": [
    "ecomm['Sales_group'] = Sales_group"
   ]
  },
  {
   "cell_type": "code",
   "execution_count": 42,
   "id": "2bb2d119-d057-44b8-bd3d-d854d43e881d",
   "metadata": {},
   "outputs": [
    {
     "name": "stderr",
     "output_type": "stream",
     "text": [
      "C:\\Users\\VJahn\\AppData\\Local\\Temp\\ipykernel_62920\\3030200852.py:1: FutureWarning: The default of observed=False is deprecated and will be changed to True in a future version of pandas. Pass observed=False to retain current behavior or observed=True to adopt the future default and silence this warning.\n",
      "  ecomm.groupby('Sales_group')['Month'].nunique()\n"
     ]
    },
    {
     "data": {
      "text/plain": [
       "Sales_group\n",
       "(0, 20000]          48\n",
       "(20000, 40000]      26\n",
       "(40000, 60000]      11\n",
       "(60000, 80000]       2\n",
       "(80000, 100000]      1\n",
       "(100000, 120000]     0\n",
       "Name: Month, dtype: int64"
      ]
     },
     "execution_count": 42,
     "metadata": {},
     "output_type": "execute_result"
    }
   ],
   "source": [
    "ecomm.groupby('Sales_group')['Month'].nunique()"
   ]
  },
  {
   "cell_type": "code",
   "execution_count": 43,
   "id": "31c84cb6-c910-4da5-bc21-eab3eac950c1",
   "metadata": {},
   "outputs": [
    {
     "name": "stderr",
     "output_type": "stream",
     "text": [
      "C:\\Users\\VJahn\\AppData\\Local\\Temp\\ipykernel_62920\\2525392263.py:1: FutureWarning: The default of observed=False is deprecated and will be changed to True in a future version of pandas. Pass observed=False to retain current behavior or observed=True to adopt the future default and silence this warning.\n",
      "  obj_1 = pd.DataFrame(ecomm.groupby('Sales_group')['Month'].nunique())\n"
     ]
    },
    {
     "data": {
      "text/html": [
       "<div>\n",
       "<style scoped>\n",
       "    .dataframe tbody tr th:only-of-type {\n",
       "        vertical-align: middle;\n",
       "    }\n",
       "\n",
       "    .dataframe tbody tr th {\n",
       "        vertical-align: top;\n",
       "    }\n",
       "\n",
       "    .dataframe thead th {\n",
       "        text-align: right;\n",
       "    }\n",
       "</style>\n",
       "<table border=\"1\" class=\"dataframe\">\n",
       "  <thead>\n",
       "    <tr style=\"text-align: right;\">\n",
       "      <th></th>\n",
       "      <th>Month</th>\n",
       "    </tr>\n",
       "    <tr>\n",
       "      <th>Sales_group</th>\n",
       "      <th></th>\n",
       "    </tr>\n",
       "  </thead>\n",
       "  <tbody>\n",
       "    <tr>\n",
       "      <th>(0, 20000]</th>\n",
       "      <td>48</td>\n",
       "    </tr>\n",
       "    <tr>\n",
       "      <th>(20000, 40000]</th>\n",
       "      <td>26</td>\n",
       "    </tr>\n",
       "    <tr>\n",
       "      <th>(40000, 60000]</th>\n",
       "      <td>11</td>\n",
       "    </tr>\n",
       "    <tr>\n",
       "      <th>(60000, 80000]</th>\n",
       "      <td>2</td>\n",
       "    </tr>\n",
       "    <tr>\n",
       "      <th>(80000, 100000]</th>\n",
       "      <td>1</td>\n",
       "    </tr>\n",
       "    <tr>\n",
       "      <th>(100000, 120000]</th>\n",
       "      <td>0</td>\n",
       "    </tr>\n",
       "  </tbody>\n",
       "</table>\n",
       "</div>"
      ],
      "text/plain": [
       "                  Month\n",
       "Sales_group            \n",
       "(0, 20000]           48\n",
       "(20000, 40000]       26\n",
       "(40000, 60000]       11\n",
       "(60000, 80000]        2\n",
       "(80000, 100000]       1\n",
       "(100000, 120000]      0"
      ]
     },
     "execution_count": 43,
     "metadata": {},
     "output_type": "execute_result"
    }
   ],
   "source": [
    "obj_1 = pd.DataFrame(ecomm.groupby('Sales_group')['Month'].nunique())\n",
    "obj_1"
   ]
  },
  {
   "cell_type": "code",
   "execution_count": 44,
   "id": "803ebee5-fdfc-401c-91d5-2e0aded060e1",
   "metadata": {},
   "outputs": [
    {
     "data": {
      "text/html": [
       "<div>\n",
       "<style scoped>\n",
       "    .dataframe tbody tr th:only-of-type {\n",
       "        vertical-align: middle;\n",
       "    }\n",
       "\n",
       "    .dataframe tbody tr th {\n",
       "        vertical-align: top;\n",
       "    }\n",
       "\n",
       "    .dataframe thead th {\n",
       "        text-align: right;\n",
       "    }\n",
       "</style>\n",
       "<table border=\"1\" class=\"dataframe\">\n",
       "  <thead>\n",
       "    <tr style=\"text-align: right;\">\n",
       "      <th></th>\n",
       "      <th>Sales_group</th>\n",
       "      <th>Month</th>\n",
       "    </tr>\n",
       "  </thead>\n",
       "  <tbody>\n",
       "    <tr>\n",
       "      <th>0</th>\n",
       "      <td>(0, 20000]</td>\n",
       "      <td>48</td>\n",
       "    </tr>\n",
       "    <tr>\n",
       "      <th>1</th>\n",
       "      <td>(20000, 40000]</td>\n",
       "      <td>26</td>\n",
       "    </tr>\n",
       "    <tr>\n",
       "      <th>2</th>\n",
       "      <td>(40000, 60000]</td>\n",
       "      <td>11</td>\n",
       "    </tr>\n",
       "    <tr>\n",
       "      <th>3</th>\n",
       "      <td>(60000, 80000]</td>\n",
       "      <td>2</td>\n",
       "    </tr>\n",
       "    <tr>\n",
       "      <th>4</th>\n",
       "      <td>(80000, 100000]</td>\n",
       "      <td>1</td>\n",
       "    </tr>\n",
       "    <tr>\n",
       "      <th>5</th>\n",
       "      <td>(100000, 120000]</td>\n",
       "      <td>0</td>\n",
       "    </tr>\n",
       "  </tbody>\n",
       "</table>\n",
       "</div>"
      ],
      "text/plain": [
       "        Sales_group  Month\n",
       "0        (0, 20000]     48\n",
       "1    (20000, 40000]     26\n",
       "2    (40000, 60000]     11\n",
       "3    (60000, 80000]      2\n",
       "4   (80000, 100000]      1\n",
       "5  (100000, 120000]      0"
      ]
     },
     "execution_count": 44,
     "metadata": {},
     "output_type": "execute_result"
    }
   ],
   "source": [
    "obj_1.reset_index(inplace =  True)\n",
    "obj_1"
   ]
  },
  {
   "cell_type": "code",
   "execution_count": 45,
   "id": "88b08d36-da99-4666-893e-259d456e55c5",
   "metadata": {},
   "outputs": [
    {
     "data": {
      "text/plain": [
       "48"
      ]
     },
     "execution_count": 45,
     "metadata": {},
     "output_type": "execute_result"
    }
   ],
   "source": [
    "Tot_unq_month = ecomm.Month.nunique()\n",
    "Tot_unq_month"
   ]
  },
  {
   "cell_type": "code",
   "execution_count": 46,
   "id": "3c25345c-f4e5-4d52-a1a9-c1629090145b",
   "metadata": {},
   "outputs": [
    {
     "data": {
      "text/html": [
       "<div>\n",
       "<style scoped>\n",
       "    .dataframe tbody tr th:only-of-type {\n",
       "        vertical-align: middle;\n",
       "    }\n",
       "\n",
       "    .dataframe tbody tr th {\n",
       "        vertical-align: top;\n",
       "    }\n",
       "\n",
       "    .dataframe thead th {\n",
       "        text-align: right;\n",
       "    }\n",
       "</style>\n",
       "<table border=\"1\" class=\"dataframe\">\n",
       "  <thead>\n",
       "    <tr style=\"text-align: right;\">\n",
       "      <th></th>\n",
       "      <th>Sales_group</th>\n",
       "      <th>Month</th>\n",
       "      <th>Percent_of_months</th>\n",
       "    </tr>\n",
       "  </thead>\n",
       "  <tbody>\n",
       "    <tr>\n",
       "      <th>0</th>\n",
       "      <td>(0, 20000]</td>\n",
       "      <td>48</td>\n",
       "      <td>1.000000</td>\n",
       "    </tr>\n",
       "    <tr>\n",
       "      <th>1</th>\n",
       "      <td>(20000, 40000]</td>\n",
       "      <td>26</td>\n",
       "      <td>0.541667</td>\n",
       "    </tr>\n",
       "    <tr>\n",
       "      <th>2</th>\n",
       "      <td>(40000, 60000]</td>\n",
       "      <td>11</td>\n",
       "      <td>0.229167</td>\n",
       "    </tr>\n",
       "    <tr>\n",
       "      <th>3</th>\n",
       "      <td>(60000, 80000]</td>\n",
       "      <td>2</td>\n",
       "      <td>0.041667</td>\n",
       "    </tr>\n",
       "    <tr>\n",
       "      <th>4</th>\n",
       "      <td>(80000, 100000]</td>\n",
       "      <td>1</td>\n",
       "      <td>0.020833</td>\n",
       "    </tr>\n",
       "    <tr>\n",
       "      <th>5</th>\n",
       "      <td>(100000, 120000]</td>\n",
       "      <td>0</td>\n",
       "      <td>0.000000</td>\n",
       "    </tr>\n",
       "  </tbody>\n",
       "</table>\n",
       "</div>"
      ],
      "text/plain": [
       "        Sales_group  Month  Percent_of_months\n",
       "0        (0, 20000]     48           1.000000\n",
       "1    (20000, 40000]     26           0.541667\n",
       "2    (40000, 60000]     11           0.229167\n",
       "3    (60000, 80000]      2           0.041667\n",
       "4   (80000, 100000]      1           0.020833\n",
       "5  (100000, 120000]      0           0.000000"
      ]
     },
     "execution_count": 46,
     "metadata": {},
     "output_type": "execute_result"
    }
   ],
   "source": [
    "obj_1['Percent_of_months'] = obj_1['Month']/48\n",
    "obj_1"
   ]
  },
  {
   "cell_type": "code",
   "execution_count": 48,
   "id": "4604af0c-260a-4040-9193-6885a0e717fa",
   "metadata": {},
   "outputs": [
    {
     "name": "stderr",
     "output_type": "stream",
     "text": [
      "C:\\Users\\VJahn\\AppData\\Local\\Temp\\ipykernel_62920\\524422118.py:2: FutureWarning: The default of observed=False is deprecated and will be changed to True in a future version of pandas. Pass observed=False to retain current behavior or observed=True to adopt the future default and silence this warning.\n",
      "  ecomm.groupby('Sales_group')['Month'].nunique().plot(kind = 'hist', fontsize=10, color ='#e6b0aa')\n"
     ]
    },
    {
     "data": {
      "image/png": "[encoded data removed]",
      "text/plain": [
       "<Figure size 600x600 with 1 Axes>"
      ]
     },
     "metadata": {},
     "output_type": "display_data"
    }
   ],
   "source": [
    "plt.figure(figsize=(6, 6))\n",
    "ecomm.groupby('Sales_group')['Month'].nunique().plot(kind = 'hist', fontsize=10, color ='#e6b0aa')\n",
    "plt.title('Distribution of Sales Over Time')\n",
    "plt.xlabel('Sales Amount ($)')\n",
    "plt.ylabel('Frequency')\n",
    "plt.grid()\n",
    "plt.show()"
   ]
  },
  {
   "cell_type": "code",
   "execution_count": null,
   "id": "6d91a43b-b538-4432-b3bd-4ad0d19c9370",
   "metadata": {},
   "outputs": [],
   "source": []
  },
  {
   "cell_type": "code",
   "execution_count": null,
   "id": "5eee21b9-9674-4f3f-8dac-734b62e5dfa1",
   "metadata": {},
   "outputs": [],
   "source": []
  },
  {
   "cell_type": "markdown",
   "id": "5dd9cff0-4570-41c0-9529-ac7d8e8d2777",
   "metadata": {},
   "source": [
    "## Distribution of Sales by no.of customers"
   ]
  },
  {
   "cell_type": "code",
   "execution_count": 49,
   "id": "9e9e83c8-97ab-4943-b523-d997fed65508",
   "metadata": {},
   "outputs": [
    {
     "name": "stderr",
     "output_type": "stream",
     "text": [
      "C:\\Users\\VJahn\\AppData\\Local\\Temp\\ipykernel_62920\\4086074964.py:1: FutureWarning: The default of observed=False is deprecated and will be changed to True in a future version of pandas. Pass observed=False to retain current behavior or observed=True to adopt the future default and silence this warning.\n",
      "  ecomm.groupby('Sales_group')['Customer_ID'].nunique()\n"
     ]
    },
    {
     "data": {
      "text/plain": [
       "Sales_group\n",
       "(0, 20000]          793\n",
       "(20000, 40000]       57\n",
       "(40000, 60000]       11\n",
       "(60000, 80000]        2\n",
       "(80000, 100000]       1\n",
       "(100000, 120000]      0\n",
       "Name: Customer_ID, dtype: int64"
      ]
     },
     "execution_count": 49,
     "metadata": {},
     "output_type": "execute_result"
    }
   ],
   "source": [
    "ecomm.groupby('Sales_group')['Customer_ID'].nunique()"
   ]
  },
  {
   "cell_type": "code",
   "execution_count": 50,
   "id": "dccef425-d9b6-464f-9fa9-1da3667b9cd7",
   "metadata": {},
   "outputs": [
    {
     "name": "stderr",
     "output_type": "stream",
     "text": [
      "C:\\Users\\VJahn\\AppData\\Local\\Temp\\ipykernel_62920\\1640599162.py:1: FutureWarning: The default of observed=False is deprecated and will be changed to True in a future version of pandas. Pass observed=False to retain current behavior or observed=True to adopt the future default and silence this warning.\n",
      "  obj_2 = pd.DataFrame(ecomm.groupby('Sales_group')['Customer_ID'].nunique())\n"
     ]
    },
    {
     "data": {
      "text/html": [
       "<div>\n",
       "<style scoped>\n",
       "    .dataframe tbody tr th:only-of-type {\n",
       "        vertical-align: middle;\n",
       "    }\n",
       "\n",
       "    .dataframe tbody tr th {\n",
       "        vertical-align: top;\n",
       "    }\n",
       "\n",
       "    .dataframe thead th {\n",
       "        text-align: right;\n",
       "    }\n",
       "</style>\n",
       "<table border=\"1\" class=\"dataframe\">\n",
       "  <thead>\n",
       "    <tr style=\"text-align: right;\">\n",
       "      <th></th>\n",
       "      <th>Customer_ID</th>\n",
       "    </tr>\n",
       "    <tr>\n",
       "      <th>Sales_group</th>\n",
       "      <th></th>\n",
       "    </tr>\n",
       "  </thead>\n",
       "  <tbody>\n",
       "    <tr>\n",
       "      <th>(0, 20000]</th>\n",
       "      <td>793</td>\n",
       "    </tr>\n",
       "    <tr>\n",
       "      <th>(20000, 40000]</th>\n",
       "      <td>57</td>\n",
       "    </tr>\n",
       "    <tr>\n",
       "      <th>(40000, 60000]</th>\n",
       "      <td>11</td>\n",
       "    </tr>\n",
       "    <tr>\n",
       "      <th>(60000, 80000]</th>\n",
       "      <td>2</td>\n",
       "    </tr>\n",
       "    <tr>\n",
       "      <th>(80000, 100000]</th>\n",
       "      <td>1</td>\n",
       "    </tr>\n",
       "    <tr>\n",
       "      <th>(100000, 120000]</th>\n",
       "      <td>0</td>\n",
       "    </tr>\n",
       "  </tbody>\n",
       "</table>\n",
       "</div>"
      ],
      "text/plain": [
       "                  Customer_ID\n",
       "Sales_group                  \n",
       "(0, 20000]                793\n",
       "(20000, 40000]             57\n",
       "(40000, 60000]             11\n",
       "(60000, 80000]              2\n",
       "(80000, 100000]             1\n",
       "(100000, 120000]            0"
      ]
     },
     "execution_count": 50,
     "metadata": {},
     "output_type": "execute_result"
    }
   ],
   "source": [
    "obj_2 = pd.DataFrame(ecomm.groupby('Sales_group')['Customer_ID'].nunique())\n",
    "obj_2"
   ]
  },
  {
   "cell_type": "code",
   "execution_count": 51,
   "id": "698180c5-fe78-448f-b782-1fb7d63b54e3",
   "metadata": {},
   "outputs": [
    {
     "data": {
      "text/html": [
       "<div>\n",
       "<style scoped>\n",
       "    .dataframe tbody tr th:only-of-type {\n",
       "        vertical-align: middle;\n",
       "    }\n",
       "\n",
       "    .dataframe tbody tr th {\n",
       "        vertical-align: top;\n",
       "    }\n",
       "\n",
       "    .dataframe thead th {\n",
       "        text-align: right;\n",
       "    }\n",
       "</style>\n",
       "<table border=\"1\" class=\"dataframe\">\n",
       "  <thead>\n",
       "    <tr style=\"text-align: right;\">\n",
       "      <th></th>\n",
       "      <th>Sales_group</th>\n",
       "      <th>Customer_ID</th>\n",
       "    </tr>\n",
       "  </thead>\n",
       "  <tbody>\n",
       "    <tr>\n",
       "      <th>0</th>\n",
       "      <td>(0, 20000]</td>\n",
       "      <td>793</td>\n",
       "    </tr>\n",
       "    <tr>\n",
       "      <th>1</th>\n",
       "      <td>(20000, 40000]</td>\n",
       "      <td>57</td>\n",
       "    </tr>\n",
       "    <tr>\n",
       "      <th>2</th>\n",
       "      <td>(40000, 60000]</td>\n",
       "      <td>11</td>\n",
       "    </tr>\n",
       "    <tr>\n",
       "      <th>3</th>\n",
       "      <td>(60000, 80000]</td>\n",
       "      <td>2</td>\n",
       "    </tr>\n",
       "    <tr>\n",
       "      <th>4</th>\n",
       "      <td>(80000, 100000]</td>\n",
       "      <td>1</td>\n",
       "    </tr>\n",
       "    <tr>\n",
       "      <th>5</th>\n",
       "      <td>(100000, 120000]</td>\n",
       "      <td>0</td>\n",
       "    </tr>\n",
       "  </tbody>\n",
       "</table>\n",
       "</div>"
      ],
      "text/plain": [
       "        Sales_group  Customer_ID\n",
       "0        (0, 20000]          793\n",
       "1    (20000, 40000]           57\n",
       "2    (40000, 60000]           11\n",
       "3    (60000, 80000]            2\n",
       "4   (80000, 100000]            1\n",
       "5  (100000, 120000]            0"
      ]
     },
     "execution_count": 51,
     "metadata": {},
     "output_type": "execute_result"
    }
   ],
   "source": [
    "obj_2.reset_index(inplace =  True)\n",
    "obj_2"
   ]
  },
  {
   "cell_type": "code",
   "execution_count": 53,
   "id": "8d4a601c-a4df-49d0-9636-de357ac9641f",
   "metadata": {},
   "outputs": [
    {
     "data": {
      "text/plain": [
       "793"
      ]
     },
     "execution_count": 53,
     "metadata": {},
     "output_type": "execute_result"
    }
   ],
   "source": [
    "Tot_unq_cust = ecomm.Customer_ID.nunique()\n",
    "Tot_unq_cust"
   ]
  },
  {
   "cell_type": "code",
   "execution_count": 54,
   "id": "22fdcffb-4a0f-4a3c-8f62-c5d4df5bdc52",
   "metadata": {},
   "outputs": [
    {
     "data": {
      "text/html": [
       "<div>\n",
       "<style scoped>\n",
       "    .dataframe tbody tr th:only-of-type {\n",
       "        vertical-align: middle;\n",
       "    }\n",
       "\n",
       "    .dataframe tbody tr th {\n",
       "        vertical-align: top;\n",
       "    }\n",
       "\n",
       "    .dataframe thead th {\n",
       "        text-align: right;\n",
       "    }\n",
       "</style>\n",
       "<table border=\"1\" class=\"dataframe\">\n",
       "  <thead>\n",
       "    <tr style=\"text-align: right;\">\n",
       "      <th></th>\n",
       "      <th>Sales_group</th>\n",
       "      <th>Customer_ID</th>\n",
       "      <th>Percent_of_customers</th>\n",
       "    </tr>\n",
       "  </thead>\n",
       "  <tbody>\n",
       "    <tr>\n",
       "      <th>0</th>\n",
       "      <td>(0, 20000]</td>\n",
       "      <td>793</td>\n",
       "      <td>1.000000</td>\n",
       "    </tr>\n",
       "    <tr>\n",
       "      <th>1</th>\n",
       "      <td>(20000, 40000]</td>\n",
       "      <td>57</td>\n",
       "      <td>0.071879</td>\n",
       "    </tr>\n",
       "    <tr>\n",
       "      <th>2</th>\n",
       "      <td>(40000, 60000]</td>\n",
       "      <td>11</td>\n",
       "      <td>0.013871</td>\n",
       "    </tr>\n",
       "    <tr>\n",
       "      <th>3</th>\n",
       "      <td>(60000, 80000]</td>\n",
       "      <td>2</td>\n",
       "      <td>0.002522</td>\n",
       "    </tr>\n",
       "    <tr>\n",
       "      <th>4</th>\n",
       "      <td>(80000, 100000]</td>\n",
       "      <td>1</td>\n",
       "      <td>0.001261</td>\n",
       "    </tr>\n",
       "    <tr>\n",
       "      <th>5</th>\n",
       "      <td>(100000, 120000]</td>\n",
       "      <td>0</td>\n",
       "      <td>0.000000</td>\n",
       "    </tr>\n",
       "  </tbody>\n",
       "</table>\n",
       "</div>"
      ],
      "text/plain": [
       "        Sales_group  Customer_ID  Percent_of_customers\n",
       "0        (0, 20000]          793              1.000000\n",
       "1    (20000, 40000]           57              0.071879\n",
       "2    (40000, 60000]           11              0.013871\n",
       "3    (60000, 80000]            2              0.002522\n",
       "4   (80000, 100000]            1              0.001261\n",
       "5  (100000, 120000]            0              0.000000"
      ]
     },
     "execution_count": 54,
     "metadata": {},
     "output_type": "execute_result"
    }
   ],
   "source": [
    "obj_2['Percent_of_customers'] = obj_2['Customer_ID']/793\n",
    "obj_2"
   ]
  },
  {
   "cell_type": "code",
   "execution_count": 55,
   "id": "0f0c69ab-c519-40ac-b7e9-2b8d68161baa",
   "metadata": {},
   "outputs": [
    {
     "name": "stderr",
     "output_type": "stream",
     "text": [
      "C:\\Users\\VJahn\\AppData\\Local\\Temp\\ipykernel_62920\\2276922336.py:2: FutureWarning: The default of observed=False is deprecated and will be changed to True in a future version of pandas. Pass observed=False to retain current behavior or observed=True to adopt the future default and silence this warning.\n",
      "  ecomm.groupby('Sales_group')['Customer_ID'].nunique().plot(kind = 'hist', fontsize=10, color ='orange')\n"
     ]
    },
    {
     "data": {
      "image/png": "[encoded data removed]",
      "text/plain": [
       "<Figure size 600x600 with 1 Axes>"
      ]
     },
     "metadata": {},
     "output_type": "display_data"
    }
   ],
   "source": [
    "plt.figure(figsize=(6, 6))\n",
    "ecomm.groupby('Sales_group')['Customer_ID'].nunique().plot(kind = 'hist', fontsize=10, color ='orange')\n",
    "plt.title('Distribution of Sales by Customer ID')\n",
    "plt.xlabel('Sales Amount ($)')\n",
    "plt.ylabel('No. of Customers')\n",
    "plt.grid()\n",
    "plt.show()"
   ]
  },
  {
   "cell_type": "code",
   "execution_count": null,
   "id": "65c21b3d-65da-471c-9a06-1208def62d99",
   "metadata": {},
   "outputs": [],
   "source": []
  },
  {
   "cell_type": "code",
   "execution_count": null,
   "id": "8d0d404c-dadf-4c16-82bb-7b375c466622",
   "metadata": {},
   "outputs": [],
   "source": []
  },
  {
   "cell_type": "markdown",
   "id": "bdc6d27c-33d2-48f1-9085-5ee73d6a0afe",
   "metadata": {},
   "source": [
    "## SCATTER PLOT"
   ]
  },
  {
   "cell_type": "markdown",
   "id": "539d9680-7b76-4851-94bb-cd6e0b847793",
   "metadata": {},
   "source": [
    "## Sales vs Profit"
   ]
  },
  {
   "cell_type": "code",
   "execution_count": 57,
   "id": "e8920d6e-4737-4aa7-80af-7a20777c4780",
   "metadata": {},
   "outputs": [
    {
     "name": "stdout",
     "output_type": "stream",
     "text": [
      "Sales     0\n",
      "Profit    0\n",
      "dtype: int64\n"
     ]
    }
   ],
   "source": [
    "print(ecomm[['Sales', 'Profit']].isnull().sum())"
   ]
  },
  {
   "cell_type": "code",
   "execution_count": 58,
   "id": "67d72471-1cac-47cd-9f1a-7397b0b351aa",
   "metadata": {},
   "outputs": [
    {
     "data": {
      "image/png": "[encoded data removed]",
      "text/plain": [
       "<Figure size 1000x600 with 1 Axes>"
      ]
     },
     "metadata": {},
     "output_type": "display_data"
    }
   ],
   "source": [
    "plt.figure(figsize=(10, 6))\n",
    "plt.scatter(ecomm['Sales'], ecomm['Profit'], color='lightgreen')\n",
    "plt.title('Scatter Plot of Sales vs. Profit')\n",
    "plt.xlabel('Sales Amount ($)')\n",
    "plt.ylabel('Profit Amount ($)')\n",
    "plt.grid()\n",
    "plt.show()"
   ]
  },
  {
   "cell_type": "code",
   "execution_count": null,
   "id": "f5fddf4d-aa52-4a87-a451-bb76ad615b7a",
   "metadata": {},
   "outputs": [],
   "source": []
  },
  {
   "cell_type": "code",
   "execution_count": null,
   "id": "00aaebbd-fe2f-46ce-a093-4c57316fc2ca",
   "metadata": {},
   "outputs": [],
   "source": []
  },
  {
   "cell_type": "markdown",
   "id": "c2fc044f-96de-4b83-8f87-1ff86de7fce0",
   "metadata": {},
   "source": [
    "## Sales Vs Profit Analysis By Segment"
   ]
  },
  {
   "cell_type": "code",
   "execution_count": 59,
   "id": "e6d481b1-9b90-4851-8de7-3de783c85d98",
   "metadata": {},
   "outputs": [],
   "source": [
    "seg_sale_profit = ecomm.groupby('Segment').agg(total_sales=('Sales', 'sum'), total_profit=('Profit', 'sum')).reset_index()"
   ]
  },
  {
   "cell_type": "code",
   "execution_count": 60,
   "id": "39b3332a-249e-4f6c-bcbe-76ac0c11e71c",
   "metadata": {},
   "outputs": [
    {
     "data": {
      "image/png": "[encoded data removed]",
      "text/plain": [
       "<Figure size 640x480 with 1 Axes>"
      ]
     },
     "metadata": {},
     "output_type": "display_data"
    }
   ],
   "source": [
    "sns.scatterplot(data=seg_sale_profit, x='total_sales', y='total_profit', hue='Segment')\n",
    "plt.title('Total Sales vs Total Profit by Segment')\n",
    "plt.xlabel('Total Sales')\n",
    "plt.ylabel('Total Profit')\n",
    "plt.show()"
   ]
  },
  {
   "cell_type": "code",
   "execution_count": null,
   "id": "8f94b477-8499-4875-bdf1-2bd1ab37c098",
   "metadata": {},
   "outputs": [],
   "source": []
  },
  {
   "cell_type": "code",
   "execution_count": null,
   "id": "8c707294-24c5-41eb-8a44-8a8ac0244dab",
   "metadata": {},
   "outputs": [],
   "source": []
  },
  {
   "cell_type": "markdown",
   "id": "ddf07f1e-30b2-45f8-8ea0-c23bdac03ebf",
   "metadata": {},
   "source": [
    "## CORRELATION"
   ]
  },
  {
   "cell_type": "code",
   "execution_count": 61,
   "id": "fc60402f-deb3-4e5e-b6d1-d3f33300449f",
   "metadata": {},
   "outputs": [],
   "source": [
    "corl = ecomm.select_dtypes(include = ['int', 'float']).corrwith(ecomm['Sales']).abs().sort_values(ascending = False)"
   ]
  },
  {
   "cell_type": "code",
   "execution_count": 62,
   "id": "a8718667-a7e5-47a9-92c7-0711588467b3",
   "metadata": {},
   "outputs": [
    {
     "name": "stdout",
     "output_type": "stream",
     "text": [
      "Sales          1.000000\n",
      "Price          0.914255\n",
      "Profit         0.410040\n",
      "Quantity       0.331014\n",
      "Discount       0.024992\n",
      "Postal_Code    0.022618\n",
      "Year           0.012465\n",
      "Row_ID         0.000901\n",
      "dtype: float64\n"
     ]
    }
   ],
   "source": [
    "print(corl)"
   ]
  },
  {
   "cell_type": "code",
   "execution_count": null,
   "id": "16588708-fd23-4f58-8bdd-361d5a17be89",
   "metadata": {},
   "outputs": [],
   "source": []
  },
  {
   "cell_type": "code",
   "execution_count": 63,
   "id": "e6f24359-0324-45d9-8ee3-43e9f269a57b",
   "metadata": {},
   "outputs": [
    {
     "data": {
      "text/html": [
       "<div>\n",
       "<style scoped>\n",
       "    .dataframe tbody tr th:only-of-type {\n",
       "        vertical-align: middle;\n",
       "    }\n",
       "\n",
       "    .dataframe tbody tr th {\n",
       "        vertical-align: top;\n",
       "    }\n",
       "\n",
       "    .dataframe thead th {\n",
       "        text-align: right;\n",
       "    }\n",
       "</style>\n",
       "<table border=\"1\" class=\"dataframe\">\n",
       "  <thead>\n",
       "    <tr style=\"text-align: right;\">\n",
       "      <th></th>\n",
       "      <th>Row_ID</th>\n",
       "      <th>Postal_Code</th>\n",
       "      <th>Price</th>\n",
       "      <th>Quantity</th>\n",
       "      <th>Discount</th>\n",
       "      <th>Profit</th>\n",
       "      <th>Sales</th>\n",
       "      <th>Year</th>\n",
       "    </tr>\n",
       "  </thead>\n",
       "  <tbody>\n",
       "    <tr>\n",
       "      <th>0</th>\n",
       "      <td>7981</td>\n",
       "      <td>77095</td>\n",
       "      <td>16.448</td>\n",
       "      <td>2</td>\n",
       "      <td>0.2</td>\n",
       "      <td>5.55</td>\n",
       "      <td>32.696</td>\n",
       "      <td>2014</td>\n",
       "    </tr>\n",
       "    <tr>\n",
       "      <th>1</th>\n",
       "      <td>740</td>\n",
       "      <td>60540</td>\n",
       "      <td>11.784</td>\n",
       "      <td>3</td>\n",
       "      <td>0.2</td>\n",
       "      <td>4.27</td>\n",
       "      <td>35.152</td>\n",
       "      <td>2014</td>\n",
       "    </tr>\n",
       "    <tr>\n",
       "      <th>2</th>\n",
       "      <td>741</td>\n",
       "      <td>60540</td>\n",
       "      <td>272.736</td>\n",
       "      <td>3</td>\n",
       "      <td>0.2</td>\n",
       "      <td>-64.77</td>\n",
       "      <td>818.008</td>\n",
       "      <td>2014</td>\n",
       "    </tr>\n",
       "    <tr>\n",
       "      <th>3</th>\n",
       "      <td>742</td>\n",
       "      <td>60540</td>\n",
       "      <td>3.540</td>\n",
       "      <td>2</td>\n",
       "      <td>0.8</td>\n",
       "      <td>-5.49</td>\n",
       "      <td>6.280</td>\n",
       "      <td>2014</td>\n",
       "    </tr>\n",
       "    <tr>\n",
       "      <th>4</th>\n",
       "      <td>1760</td>\n",
       "      <td>19143</td>\n",
       "      <td>19.536</td>\n",
       "      <td>3</td>\n",
       "      <td>0.2</td>\n",
       "      <td>4.88</td>\n",
       "      <td>58.408</td>\n",
       "      <td>2014</td>\n",
       "    </tr>\n",
       "  </tbody>\n",
       "</table>\n",
       "</div>"
      ],
      "text/plain": [
       "   Row_ID  Postal_Code    Price  Quantity  Discount  Profit    Sales  Year\n",
       "0    7981        77095   16.448         2       0.2    5.55   32.696  2014\n",
       "1     740        60540   11.784         3       0.2    4.27   35.152  2014\n",
       "2     741        60540  272.736         3       0.2  -64.77  818.008  2014\n",
       "3     742        60540    3.540         2       0.8   -5.49    6.280  2014\n",
       "4    1760        19143   19.536         3       0.2    4.88   58.408  2014"
      ]
     },
     "execution_count": 63,
     "metadata": {},
     "output_type": "execute_result"
    }
   ],
   "source": [
    "obj_3 = ecomm.select_dtypes(['int', 'float'])\n",
    "obj_3.head()"
   ]
  },
  {
   "cell_type": "code",
   "execution_count": 64,
   "id": "cba2f3b2-d455-4c2c-be77-b0203460fbae",
   "metadata": {},
   "outputs": [
    {
     "data": {
      "text/plain": [
       "Sales          1.000000\n",
       "Price          0.914255\n",
       "Profit         0.410040\n",
       "Quantity       0.331014\n",
       "Discount       0.024992\n",
       "Postal_Code    0.022618\n",
       "Year           0.012465\n",
       "Row_ID         0.000901\n",
       "dtype: float64"
      ]
     },
     "execution_count": 64,
     "metadata": {},
     "output_type": "execute_result"
    }
   ],
   "source": [
    "obj_3.corrwith(obj_3['Sales']).abs().sort_values(ascending = False)"
   ]
  },
  {
   "cell_type": "code",
   "execution_count": 65,
   "id": "6acf1ff3-5e76-4435-a5e7-5cd2c1b0c36d",
   "metadata": {},
   "outputs": [
    {
     "data": {
      "text/plain": [
       "<Axes: >"
      ]
     },
     "execution_count": 65,
     "metadata": {},
     "output_type": "execute_result"
    },
    {
     "data": {
      "image/png": "[encoded data removed]",
      "text/plain": [
       "<Figure size 600x500 with 2 Axes>"
      ]
     },
     "metadata": {},
     "output_type": "display_data"
    }
   ],
   "source": [
    "plt.figure(figsize = (6,5))\n",
    "sns.heatmap(obj_3.corr().abs(), annot = True)"
   ]
  },
  {
   "cell_type": "code",
   "execution_count": null,
   "id": "3fb8b450-1924-4a73-9244-ea3fae7cc316",
   "metadata": {},
   "outputs": [],
   "source": []
  },
  {
   "cell_type": "code",
   "execution_count": null,
   "id": "65b52964-8c26-4fe1-8e3d-fd8a11407d32",
   "metadata": {},
   "outputs": [],
   "source": []
  },
  {
   "cell_type": "markdown",
   "id": "e8b6238f-6da1-46c0-89a3-2b157fd2507c",
   "metadata": {},
   "source": [
    "## BOX PLOT"
   ]
  },
  {
   "cell_type": "code",
   "execution_count": 67,
   "id": "384e560e-cb9e-4000-9669-6678869ed121",
   "metadata": {},
   "outputs": [
    {
     "data": {
      "text/plain": [
       "<Axes: >"
      ]
     },
     "execution_count": 67,
     "metadata": {},
     "output_type": "execute_result"
    },
    {
     "data": {
      "image/png": "[encoded data removed]",
      "text/plain": [
       "<Figure size 640x480 with 1 Axes>"
      ]
     },
     "metadata": {},
     "output_type": "display_data"
    }
   ],
   "source": [
    "sns.boxplot(ecomm.Discount)"
   ]
  },
  {
   "cell_type": "code",
   "execution_count": 69,
   "id": "8f584ae1-cd70-4766-aab9-c58b9ec35b70",
   "metadata": {},
   "outputs": [
    {
     "data": {
      "text/plain": [
       "0.0"
      ]
     },
     "execution_count": 69,
     "metadata": {},
     "output_type": "execute_result"
    }
   ],
   "source": [
    "Q1 = ecomm.Discount.quantile(0.25)\n",
    "Q1"
   ]
  },
  {
   "cell_type": "code",
   "execution_count": 70,
   "id": "e4d408cc-ec6b-495f-a458-148ada7c3e96",
   "metadata": {},
   "outputs": [
    {
     "data": {
      "text/plain": [
       "0.2"
      ]
     },
     "execution_count": 70,
     "metadata": {},
     "output_type": "execute_result"
    }
   ],
   "source": [
    "Q3 = ecomm.Discount.quantile(0.75)\n",
    "Q3"
   ]
  },
  {
   "cell_type": "code",
   "execution_count": 71,
   "id": "62290e18-16b4-45eb-a62a-db9474df263f",
   "metadata": {},
   "outputs": [
    {
     "data": {
      "text/plain": [
       "0.2"
      ]
     },
     "execution_count": 71,
     "metadata": {},
     "output_type": "execute_result"
    }
   ],
   "source": [
    "IQR = Q3-Q1\n",
    "IQR"
   ]
  },
  {
   "cell_type": "code",
   "execution_count": 72,
   "id": "3d815e88-11d7-438b-9b93-00404752e4be",
   "metadata": {},
   "outputs": [
    {
     "data": {
      "text/plain": [
       "-0.30000000000000004"
      ]
     },
     "execution_count": 72,
     "metadata": {},
     "output_type": "execute_result"
    }
   ],
   "source": [
    "LC = Q1 - 1.5*IQR\n",
    "LC"
   ]
  },
  {
   "cell_type": "code",
   "execution_count": 73,
   "id": "c7f5097e-5297-413f-bd88-399907bf679b",
   "metadata": {},
   "outputs": [
    {
     "data": {
      "text/plain": [
       "0.5"
      ]
     },
     "execution_count": 73,
     "metadata": {},
     "output_type": "execute_result"
    }
   ],
   "source": [
    "UC = Q3 + 1.5*IQR\n",
    "UC"
   ]
  },
  {
   "cell_type": "code",
   "execution_count": 74,
   "id": "cca66bbb-5b5f-4c5a-ac59-a9ae80a871a9",
   "metadata": {},
   "outputs": [
    {
     "data": {
      "text/plain": [
       "<Axes: >"
      ]
     },
     "execution_count": 74,
     "metadata": {},
     "output_type": "execute_result"
    },
    {
     "data": {
      "image/png": "[encoded data removed]",
      "text/plain": [
       "<Figure size 640x480 with 1 Axes>"
      ]
     },
     "metadata": {},
     "output_type": "display_data"
    }
   ],
   "source": [
    "ecomm['Discount'] = ecomm['Discount'].clip(lower = LC, upper = UC)\n",
    "sns.boxplot(ecomm.Discount)"
   ]
  },
  {
   "cell_type": "code",
   "execution_count": null,
   "id": "00ad51fd-16e5-4a04-8db7-dab0f6f6b53b",
   "metadata": {},
   "outputs": [],
   "source": []
  },
  {
   "cell_type": "code",
   "execution_count": null,
   "id": "2086e12c-9a05-4374-acc7-91528c420f05",
   "metadata": {},
   "outputs": [],
   "source": []
  },
  {
   "cell_type": "code",
   "execution_count": null,
   "id": "2e4d48d0-35a2-4108-b3aa-f3acfc2bdab2",
   "metadata": {},
   "outputs": [],
   "source": []
  },
  {
   "cell_type": "code",
   "execution_count": null,
   "id": "8c91f6a5-831a-4e65-95d3-ea86cab86be6",
   "metadata": {},
   "outputs": [],
   "source": []
  },
  {
   "cell_type": "code",
   "execution_count": null,
   "id": "af474974-3a5b-4d1e-a011-888519a34ffa",
   "metadata": {},
   "outputs": [],
   "source": []
  }
 ],
 "metadata": {
  "kernelspec": {
   "display_name": "Python 3 (ipykernel)",
   "language": "python",
   "name": "python3"
  },
  "language_info": {
   "codemirror_mode": {
    "name": "ipython",
    "version": 3
   },
   "file_extension": ".py",
   "mimetype": "text/x-python",
   "name": "python",
   "nbconvert_exporter": "python",
   "pygments_lexer": "ipython3",
   "version": "3.11.7"
  }
 },
 "nbformat": 4,
 "nbformat_minor": 5
}
